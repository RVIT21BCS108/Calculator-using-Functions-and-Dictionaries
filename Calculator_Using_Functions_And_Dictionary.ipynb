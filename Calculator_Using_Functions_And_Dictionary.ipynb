{
  "nbformat": 4,
  "nbformat_minor": 0,
  "metadata": {
    "colab": {
      "provenance": [],
      "authorship_tag": "ABX9TyNyJ3/SDvuFCZ/VfFbwxFVb",
      "include_colab_link": true
    },
    "kernelspec": {
      "name": "python3",
      "display_name": "Python 3"
    },
    "language_info": {
      "name": "python"
    }
  },
  "cells": [
    {
      "cell_type": "markdown",
      "metadata": {
        "id": "view-in-github",
        "colab_type": "text"
      },
      "source": [
        "<a href=\"https://colab.research.google.com/github/RVIT21BCS108/Calculator-using-Functions-and-Dictionaries/blob/main/Calculator_Using_Functions_And_Dictionary.ipynb\" target=\"_parent\"><img src=\"https://colab.research.google.com/assets/colab-badge.svg\" alt=\"Open In Colab\"/></a>"
      ]
    },
    {
      "cell_type": "code",
      "execution_count": null,
      "metadata": {
        "id": "9WvwPY5PaXk3"
      },
      "outputs": [],
      "source": [
        "import os\n",
        "\n",
        "def clear_console():\n",
        "    # For Windows\n",
        "    if os.name == 'nt':\n",
        "        os.system('cls')\n",
        "    # For Mac and Linux (os.name is 'posix')\n",
        "    else:\n",
        "        os.system('clear')\n",
        "\n",
        "def add(n1, n2):\n",
        "    return n1 + n2\n",
        "\n",
        "def subtract(n1, n2):\n",
        "    return n1 - n2\n",
        "\n",
        "def multiply(n1, n2):\n",
        "    return n1 * n2\n",
        "\n",
        "def divide(n1, n2):\n",
        "    return n1 / n2\n",
        "\n",
        "operations = {\n",
        "    \"+\": add,\n",
        "    \"-\": subtract,\n",
        "    \"*\": multiply,\n",
        "    \"/\": divide\n",
        "}\n",
        "\n",
        "def calculator():\n",
        "    num1 = float(input(\"What's the first number?: \"))\n",
        "    for symbol in operations:\n",
        "        print(symbol)\n",
        "    should_continue = True\n",
        "\n",
        "    while should_continue:\n",
        "        operation_symbol = input(\"Pick an operation: \")\n",
        "        num2 = float(input(\"What's the next number?: \"))\n",
        "        calculation_function = operations[operation_symbol]\n",
        "        answer = calculation_function(num1, num2)\n",
        "        print(f\"{num1} {operation_symbol} {num2} = {answer}\")\n",
        "\n",
        "        if input(f\"Type 'y' to continue calculating with {answer}, or type 'n' to start a new calculation: \") == 'y':\n",
        "            num1 = answer\n",
        "        else:\n",
        "            should_continue = False\n",
        "            clear_console()\n",
        "            calculator()\n",
        "\n",
        "calculator()\n"
      ]
    }
  ]
}